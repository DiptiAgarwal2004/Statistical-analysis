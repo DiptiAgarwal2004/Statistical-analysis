{
  "nbformat": 4,
  "nbformat_minor": 0,
  "metadata": {
    "colab": {
      "provenance": []
    },
    "kernelspec": {
      "name": "python3",
      "display_name": "Python 3"
    },
    "language_info": {
      "name": "python"
    }
  },
  "cells": [
    {
      "cell_type": "code",
      "execution_count": 1,
      "metadata": {
        "colab": {
          "base_uri": "https://localhost:8080/"
        },
        "id": "R54GWPAWuIKv",
        "outputId": "c9e0ba90-3ad6-45e7-f716-4dd44d0d0d09"
      },
      "outputs": [
        {
          "output_type": "stream",
          "name": "stdout",
          "text": [
            "Mean: 59.27\n",
            "Known Std Dev: 15\n",
            "Margin of Error: 0.93\n",
            "Confidence Interval for Population Mean (Known Std Dev): (58.34130745154316, 60.20069254845684)\n"
          ]
        }
      ],
      "source": [
        "import numpy as np\n",
        "import pandas as pd\n",
        "import scipy.stats as stats\n",
        "data = {\n",
        "    'values': np.random.randint(20, 100, size=1000)\n",
        "}\n",
        "df = pd.DataFrame(data)\n",
        "confidence_level = 0.95\n",
        "alpha = 1 - confidence_level\n",
        "known_std_dev = 15\n",
        "n = len(df)\n",
        "mean = df['values'].mean()\n",
        "z_score = stats.norm.ppf(1 - alpha / 2)\n",
        "margin_of_error = z_score * (known_std_dev / np.sqrt(n))\n",
        "ci_mean_known = (mean - margin_of_error, mean + margin_of_error)\n",
        "print(f\"Mean: {mean:.2f}\")\n",
        "print(f\"Known Std Dev: {known_std_dev}\")\n",
        "print(f\"Margin of Error: {margin_of_error:.2f}\")\n",
        "print(f\"Confidence Interval for Population Mean (Known Std Dev): {ci_mean_known}\")"
      ]
    },
    {
      "cell_type": "code",
      "source": [
        "import numpy as np\n",
        "import pandas as pd\n",
        "import scipy.stats as stats\n",
        "data = {\n",
        "    'values': np.random.randint(20, 100, size=1000)\n",
        "}\n",
        "df = pd.DataFrame(data)\n",
        "confidence_level = 0.95\n",
        "alpha = 1 - confidence_level\n",
        "n = len(df)\n",
        "mean = df['values'].mean()\n",
        "std_dev = df['values'].std(ddof=1)\n",
        "t_score = stats.t.ppf(1 - alpha / 2, df=n-1)\n",
        "margin_of_error_t = t_score * (std_dev / np.sqrt(n))\n",
        "ci_mean_unknown = (mean - margin_of_error_t, mean + margin_of_error_t)\n",
        "print(f\"Mean: {mean:.2f}\")\n",
        "print(f\"Sample Std Dev: {std_dev:.2f}\")\n",
        "print(f\"Margin of Error: {margin_of_error_t:.2f}\")\n",
        "print(f\"Confidence Interval for Population Mean (Unknown Std Dev): {ci_mean_unknown}\")"
      ],
      "metadata": {
        "colab": {
          "base_uri": "https://localhost:8080/"
        },
        "id": "0fmzlNi8ueLj",
        "outputId": "c118185b-1897-4899-c888-6fe8085ea7d2"
      },
      "execution_count": 2,
      "outputs": [
        {
          "output_type": "stream",
          "name": "stdout",
          "text": [
            "Mean: 58.22\n",
            "Sample Std Dev: 23.29\n",
            "Margin of Error: 1.45\n",
            "Confidence Interval for Population Mean (Unknown Std Dev): (56.7719834493993, 59.6620165506007)\n"
          ]
        }
      ]
    },
    {
      "cell_type": "code",
      "source": [
        "import numpy as np\n",
        "import pandas as pd\n",
        "import scipy.stats as stats\n",
        "data = {\n",
        "    'values': np.random.randint(0, 2, size=1000)  # Simulating binary data for proportion\n",
        "}\n",
        "df = pd.DataFrame(data)\n",
        "confidence_level = 0.95\n",
        "alpha = 1 - confidence_level\n",
        "successes = np.sum(df['values'])\n",
        "total = len(df)\n",
        "p_hat = successes / total\n",
        "z_score = stats.norm.ppf(1 - alpha / 2)\n",
        "margin_of_error_p = z_score * np.sqrt((p_hat * (1 - p_hat)) / total)\n",
        "ci_proportion = (p_hat - margin_of_error_p, p_hat + margin_of_error_p)\n",
        "print(f\"Sample Proportion: {p_hat:.2f}\")\n",
        "print(f\"Margin of Error: {margin_of_error_p:.2f}\")\n",
        "print(f\"Confidence Interval for Population Proportion: {ci_proportion}\")"
      ],
      "metadata": {
        "colab": {
          "base_uri": "https://localhost:8080/"
        },
        "id": "icE_gILHurPq",
        "outputId": "d9330546-00c7-43ce-9a9a-2ceb4cb070bf"
      },
      "execution_count": 3,
      "outputs": [
        {
          "output_type": "stream",
          "name": "stdout",
          "text": [
            "Sample Proportion: 0.50\n",
            "Margin of Error: 0.03\n",
            "Confidence Interval for Population Proportion: (0.4710104963037765, 0.5329895036962234)\n"
          ]
        }
      ]
    },
    {
      "cell_type": "code",
      "source": [
        "import numpy as np\n",
        "import pandas as pd\n",
        "import scipy.stats as stats\n",
        "data = {\n",
        "    'values': np.random.randint(20, 100, size=1000)\n",
        "}\n",
        "df = pd.DataFrame(data)\n",
        "n = len(df)\n",
        "std_dev = df['values'].std(ddof=1)\n",
        "squared_std_dev = std_dev ** 2\n",
        "confidence_level = 0.95\n",
        "alpha = 1 - confidence_level\n",
        "chi2_lower = stats.chi2.ppf(alpha / 2, df=n-1)\n",
        "chi2_upper = stats.chi2.ppf(1 - alpha / 2, df=n-1)\n",
        "ci_variance = ((n-1) * squared_std_dev / chi2_upper, (n-1) * squared_std_dev / chi2_lower)\n",
        "print(f\"Sample Variance: {squared_std_dev:.2f}\")\n",
        "print(f\"Chi2 Lower: {chi2_lower:.2f}, Chi2 Upper: {chi2_upper:.2f}\")\n",
        "print(f\"Confidence Interval for Population Variance: {ci_variance}\")"
      ],
      "metadata": {
        "colab": {
          "base_uri": "https://localhost:8080/"
        },
        "id": "KguIsKKJu2U6",
        "outputId": "0bd99498-d40e-470f-9aff-f8de6c7b5010"
      },
      "execution_count": 4,
      "outputs": [
        {
          "output_type": "stream",
          "name": "stdout",
          "text": [
            "Sample Variance: 524.26\n",
            "Chi2 Lower: 913.30, Chi2 Upper: 1088.49\n",
            "Confidence Interval for Population Variance: (481.15877122379226, 573.4528933765075)\n"
          ]
        }
      ]
    }
  ]
}